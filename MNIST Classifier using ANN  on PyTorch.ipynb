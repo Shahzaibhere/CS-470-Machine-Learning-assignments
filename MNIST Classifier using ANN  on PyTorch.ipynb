{
 "cells": [
  {
   "cell_type": "markdown",
   "metadata": {},
   "source": [
    "Import the relevant PyTorch and other visualization libraries to get things started"
   ]
  },
  {
   "cell_type": "code",
   "execution_count": 47,
   "metadata": {},
   "outputs": [],
   "source": [
    "\n",
    "import torch\n",
    "import torchvision.datasets as dsets\n",
    "import torchvision.transforms as transforms\n",
    "import torch.nn as nn\n",
    "import matplotlib.pyplot as plt\n",
    "import numpy as np"
   ]
  },
  {
   "cell_type": "markdown",
   "metadata": {},
   "source": [
    "Define the plotting function that we'll be making use of later after training the neural net to display the progress"
   ]
  },
  {
   "cell_type": "code",
   "execution_count": 48,
   "metadata": {},
   "outputs": [],
   "source": [
    "\n",
    "def plot_accuracy_loss(training_results): \n",
    "    plt.subplot(2, 1, 1)\n",
    "    plt.plot(training_results['training_loss'], 'r')\n",
    "    plt.ylabel('loss')\n",
    "    plt.title('training loss iterations')\n",
    "    plt.subplot(2, 1, 2)\n",
    "    plt.plot(training_results['validation_accuracy'])\n",
    "    plt.ylabel('accuracy')\n",
    "    plt.xlabel('epochs')   \n",
    "    plt.show()"
   ]
  },
  {
   "cell_type": "markdown",
   "metadata": {},
   "source": [
    "Define the function to display the data items"
   ]
  },
  {
   "cell_type": "code",
   "execution_count": 49,
   "metadata": {},
   "outputs": [],
   "source": [
    "def show_data(data_sample):\n",
    "    plt.imshow(data_sample.numpy().reshape(28, 28),cmap=\"gray\")\n",
    "    plt.show()"
   ]
  },
  {
   "cell_type": "markdown",
   "metadata": {},
   "source": [
    "Download and assign the dataset in factions "
   ]
  },
  {
   "cell_type": "code",
   "execution_count": 50,
   "metadata": {},
   "outputs": [],
   "source": [
    "\n",
    "trainset = dsets.MNIST(root='./data', train=True,download=True, transform=transforms.ToTensor())\n",
    "validationset = dsets.MNIST(root='./data', train=False,download=True, transform=transforms.ToTensor())\n",
    "testset = dsets.MNIST(root='./data', train=False,download=True, transform=transforms.ToTensor())\n",
    "\n",
    "trainloader = torch.utils.data.DataLoader(trainset, batch_size=5000,shuffle=True, num_workers=0)\n",
    "validationloader = torch.utils.data.DataLoader(validationset, batch_size=3000,shuffle=True, num_workers=0)\n",
    "testloader = torch.utils.data.DataLoader(testset, batch_size=2000,shuffle=True, num_workers=0)\n",
    "\n"
   ]
  },
  {
   "cell_type": "markdown",
   "metadata": {},
   "source": [
    "Build the Neural network using OOP in Python, Sigmoid function is used to activate the outputs of layers"
   ]
  },
  {
   "cell_type": "code",
   "execution_count": 51,
   "metadata": {},
   "outputs": [],
   "source": [
    "\n",
    "class Net(nn.Module):\n",
    "    def __init__(self):\n",
    "        super(Net, self).__init__()\n",
    "        self.fc1 = nn.Linear(28*28, 512) #the size of a single data entry as input layer units (pixels 28x28)\n",
    "        self.fc2 = nn.Linear(512, 256) \n",
    "        self.fc3 = nn.Linear(256, 10)       \n",
    "\n",
    "    def forward(self, x):\n",
    "        x = torch.sigmoid(self.fc1(x)) #activation function sigmoid \n",
    "        x= torch.sigmoid(self.fc2(x))\n",
    "        x = self.fc3(x)\n",
    "        return x"
   ]
  },
  {
   "cell_type": "markdown",
   "metadata": {},
   "source": [
    "Assign and make objects of relevant parameters to passed to train the build ANN"
   ]
  },
  {
   "cell_type": "code",
   "execution_count": 52,
   "metadata": {},
   "outputs": [],
   "source": [
    "\n",
    "criterion=nn.CrossEntropyLoss()\n",
    "model=Net()\n",
    "optimizer=torch.optim.Adam(model.parameters(),lr=1e-3)"
   ]
  },
  {
   "cell_type": "markdown",
   "metadata": {},
   "source": [
    "Define a function for training of our ANN on the testset and then validating it using the validationset to ensure accuracy and minimal cost"
   ]
  },
  {
   "cell_type": "code",
   "execution_count": 53,
   "metadata": {},
   "outputs": [],
   "source": [
    "\n",
    "def train(model,criterion,optimizer,trainloader,validationloader,epochs):\n",
    "    i=0\n",
    "    useful_stuff={\"training_loss\":[],\"validation_accuracy\":[]}\n",
    "    for epoch in range(epochs):\n",
    "        for i, (x,y) in enumerate(trainloader):\n",
    "            optimizer.zero_grad()\n",
    "            z=model(x.view(-1,28*28))\n",
    "            loss=criterion(z,y)\n",
    "            loss.backward()\n",
    "            optimizer.step()\n",
    "            useful_stuff[\"training_loss\"].append(loss.data.item())\n",
    "        correct=0\n",
    "        for x,y in validationloader:\n",
    "            z=model(x.view(-1,28*28))\n",
    "            _,prediction=torch.max(z,1)\n",
    "            correct+=(prediction==y).sum().item()\n",
    "        accuracy=100*(correct/len(validationset))\n",
    "        useful_stuff[\"validation_accuracy\"].append(accuracy)\n",
    "    return useful_stuff\n",
    "            \n",
    "    "
   ]
  },
  {
   "cell_type": "markdown",
   "metadata": {},
   "source": [
    "Plot the results using the function define in the beginning to visualize the training process"
   ]
  },
  {
   "cell_type": "code",
   "execution_count": 54,
   "metadata": {},
   "outputs": [
    {
     "data": {
      "image/png": "[encoded data removed]",
      "text/plain": [
       "<Figure size 432x288 with 2 Axes>"
      ]
     },
     "metadata": {
      "needs_background": "light"
     },
     "output_type": "display_data"
    }
   ],
   "source": [
    "\n",
    "training_results=train(model,criterion,optimizer,trainloader,validationloader,10)\n",
    "plot_accuracy_loss(training_results)\n"
   ]
  },
  {
   "cell_type": "markdown",
   "metadata": {},
   "source": [
    "Finally test the trained model to check the accuracy on shuffled and entirely different dataset (the testset) for better judgement and to display the first few misclassified samples:"
   ]
  },
  {
   "cell_type": "code",
   "execution_count": 55,
   "metadata": {},
   "outputs": [
    {
     "name": "stdout",
     "output_type": "stream",
     "text": [
      "The testing set accuracy of the network is: 91 %\n"
     ]
    }
   ],
   "source": [
    "\n",
    "model.eval() \n",
    "correct=0\n",
    "\n",
    "for i, (x,y) in enumerate(testloader):\n",
    "    \n",
    "      # Put each image into a vector\n",
    "      x = x.view(-1, 28*28)\n",
    "    \n",
    "      # Do the forward pass and get the predictions\n",
    "      z = model(x)\n",
    "      _,prediction = torch.max(z,1)\n",
    "      correct += (prediction == y).sum().item()\n",
    "print('The testing set accuracy of the network is: %d %%' % (100 * correct / len(testset)))"
   ]
  },
  {
   "cell_type": "code",
   "execution_count": 56,
   "metadata": {},
   "outputs": [
    {
     "data": {
      "image/png": "[encoded data removed]",
      "text/plain": [
       "<Figure size 432x288 with 1 Axes>"
      ]
     },
     "metadata": {
      "needs_background": "light"
     },
     "output_type": "display_data"
    },
    {
     "data": {
      "image/png": "[encoded data removed]",
      "text/plain": [
       "<Figure size 432x288 with 1 Axes>"
      ]
     },
     "metadata": {
      "needs_background": "light"
     },
     "output_type": "display_data"
    },
    {
     "data": {
      "image/png": "[encoded data removed]",
      "text/plain": [
       "<Figure size 432x288 with 1 Axes>"
      ]
     },
     "metadata": {
      "needs_background": "light"
     },
     "output_type": "display_data"
    },
    {
     "data": {
      "image/png": "[encoded data removed]",
      "text/plain": [
       "<Figure size 432x288 with 1 Axes>"
      ]
     },
     "metadata": {
      "needs_background": "light"
     },
     "output_type": "display_data"
    },
    {
     "data": {
      "image/png": "[encoded data removed]",
      "text/plain": [
       "<Figure size 432x288 with 1 Axes>"
      ]
     },
     "metadata": {
      "needs_background": "light"
     },
     "output_type": "display_data"
    }
   ],
   "source": [
    "\n",
    "count = 0\n",
    "for x, y in testset:\n",
    "    z = model(x.reshape(-1, 28 * 28))\n",
    "    _,prediction = torch.max(z, 1)\n",
    "    if (prediction != y):\n",
    "        show_data(x)\n",
    "        count += 1\n",
    "    if count >= 5:\n",
    "        break"
   ]
  },
  {
   "cell_type": "markdown",
   "metadata": {},
   "source": [
    "Hence, to conclude the model was well trained since it produced a good accuracy on the validation and test datasets and can be deployed to predict the digits with a decent accuracy as the displayed misclassifications were tough to classify even for a normal person"
   ]
  }
 ],
 "metadata": {
  "kernelspec": {
   "display_name": "Python 3",
   "language": "python",
   "name": "python3"
  },
  "language_info": {
   "codemirror_mode": {
    "name": "ipython",
    "version": 3
   },
   "file_extension": ".py",
   "mimetype": "text/x-python",
   "name": "python",
   "nbconvert_exporter": "python",
   "pygments_lexer": "ipython3",
   "version": "3.7.6"
  }
 },
 "nbformat": 4,
 "nbformat_minor": 4
}
